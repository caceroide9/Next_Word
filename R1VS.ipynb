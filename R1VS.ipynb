{
  "nbformat": 4,
  "nbformat_minor": 0,
  "metadata": {
    "colab": {
      "name": "R1VS",
      "provenance": []
    },
    "kernelspec": {
      "name": "python3",
      "display_name": "Python 3"
    },
    "language_info": {
      "name": "python"
    }
  },
  "cells": [
    {
      "cell_type": "code",
      "source": [
        "import pandas as pd\n",
        "import os\n",
        "import numpy as np\n",
        "\n",
        "import tensorflow as tf\n",
        "from tensorflow.keras.preprocessing.sequence import pad_sequences\n",
        "from tensorflow.keras.layers import Embedding, LSTM, Dense, Bidirectional\n",
        "from tensorflow.keras.preprocessing.text import Tokenizer\n",
        "from tensorflow.keras.models import Sequential\n",
        "from tensorflow.keras.optimizers import Adam"
      ],
      "metadata": {
        "id": "DyXjJqxQObt7"
      },
      "execution_count": 1,
      "outputs": []
    },
    {
      "cell_type": "code",
      "source": [
        "from google.colab import drive\n",
        "drive.mount('/content/drive/')\n",
        "path = '/content/drive/My Drive/DataSet'"
      ],
      "metadata": {
        "colab": {
          "base_uri": "https://localhost:8080/"
        },
        "id": "DWJzdcGkPIIy",
        "outputId": "79f64ac4-549f-4556-e968-ad3081911329"
      },
      "execution_count": 2,
      "outputs": [
        {
          "output_type": "stream",
          "name": "stdout",
          "text": [
            "Mounted at /content/drive/\n"
          ]
        }
      ]
    },
    {
      "cell_type": "code",
      "source": [
        "datos=pd.read_csv(\"/content/drive/My Drive/DataSet/DatasetDescRatsTw.csv\",sep=',')\n",
        "datos.head()"
      ],
      "metadata": {
        "colab": {
          "base_uri": "https://localhost:8080/",
          "height": 206
        },
        "id": "-rWCmN0gOcNS",
        "outputId": "4f5e6b2e-77b6-46ad-ec61-78c91531ddd7"
      },
      "execution_count": 3,
      "outputs": [
        {
          "output_type": "execute_result",
          "data": {
            "text/plain": [
              "   id                                              Title  \\\n",
              "0   0  El kilo de pan hallulla está a $790 en el Líde...   \n",
              "1   1  Notebook HP 245 G8 14” (AMD Ryzen 5-5500U / 8G...   \n",
              "2   2  Notebook Acer 2en1 Touch Spin3 13,3\" (Intel Co...   \n",
              "3   3  Aspiradora robot iRobot Roomba E6 bajó a $189....   \n",
              "4   4  6x Latas Cerveza Stella Artois (473ml) bajó a ...   \n",
              "\n",
              "                                                 url  \n",
              "0                                                NaN  \n",
              "1  https://descuentosrata.com/oferta/4745/-notebo...  \n",
              "2  https://descuentosrata.com/oferta/4746/-notebo...  \n",
              "3  https://descuentosrata.com/oferta/4743/aspirad...  \n",
              "4  https://descuentosrata.com/oferta/4744/6x-lata...  "
            ],
            "text/html": [
              "\n",
              "  <div id=\"df-14130fdd-ffd7-4a01-bd1b-dc7711ba3ea2\">\n",
              "    <div class=\"colab-df-container\">\n",
              "      <div>\n",
              "<style scoped>\n",
              "    .dataframe tbody tr th:only-of-type {\n",
              "        vertical-align: middle;\n",
              "    }\n",
              "\n",
              "    .dataframe tbody tr th {\n",
              "        vertical-align: top;\n",
              "    }\n",
              "\n",
              "    .dataframe thead th {\n",
              "        text-align: right;\n",
              "    }\n",
              "</style>\n",
              "<table border=\"1\" class=\"dataframe\">\n",
              "  <thead>\n",
              "    <tr style=\"text-align: right;\">\n",
              "      <th></th>\n",
              "      <th>id</th>\n",
              "      <th>Title</th>\n",
              "      <th>url</th>\n",
              "    </tr>\n",
              "  </thead>\n",
              "  <tbody>\n",
              "    <tr>\n",
              "      <th>0</th>\n",
              "      <td>0</td>\n",
              "      <td>El kilo de pan hallulla está a $790 en el Líde...</td>\n",
              "      <td>NaN</td>\n",
              "    </tr>\n",
              "    <tr>\n",
              "      <th>1</th>\n",
              "      <td>1</td>\n",
              "      <td>Notebook HP 245 G8 14” (AMD Ryzen 5-5500U / 8G...</td>\n",
              "      <td>https://descuentosrata.com/oferta/4745/-notebo...</td>\n",
              "    </tr>\n",
              "    <tr>\n",
              "      <th>2</th>\n",
              "      <td>2</td>\n",
              "      <td>Notebook Acer 2en1 Touch Spin3 13,3\" (Intel Co...</td>\n",
              "      <td>https://descuentosrata.com/oferta/4746/-notebo...</td>\n",
              "    </tr>\n",
              "    <tr>\n",
              "      <th>3</th>\n",
              "      <td>3</td>\n",
              "      <td>Aspiradora robot iRobot Roomba E6 bajó a $189....</td>\n",
              "      <td>https://descuentosrata.com/oferta/4743/aspirad...</td>\n",
              "    </tr>\n",
              "    <tr>\n",
              "      <th>4</th>\n",
              "      <td>4</td>\n",
              "      <td>6x Latas Cerveza Stella Artois (473ml) bajó a ...</td>\n",
              "      <td>https://descuentosrata.com/oferta/4744/6x-lata...</td>\n",
              "    </tr>\n",
              "  </tbody>\n",
              "</table>\n",
              "</div>\n",
              "      <button class=\"colab-df-convert\" onclick=\"convertToInteractive('df-14130fdd-ffd7-4a01-bd1b-dc7711ba3ea2')\"\n",
              "              title=\"Convert this dataframe to an interactive table.\"\n",
              "              style=\"display:none;\">\n",
              "        \n",
              "  <svg xmlns=\"http://www.w3.org/2000/svg\" height=\"24px\"viewBox=\"0 0 24 24\"\n",
              "       width=\"24px\">\n",
              "    <path d=\"M0 0h24v24H0V0z\" fill=\"none\"/>\n",
              "    <path d=\"M18.56 5.44l.94 2.06.94-2.06 2.06-.94-2.06-.94-.94-2.06-.94 2.06-2.06.94zm-11 1L8.5 8.5l.94-2.06 2.06-.94-2.06-.94L8.5 2.5l-.94 2.06-2.06.94zm10 10l.94 2.06.94-2.06 2.06-.94-2.06-.94-.94-2.06-.94 2.06-2.06.94z\"/><path d=\"M17.41 7.96l-1.37-1.37c-.4-.4-.92-.59-1.43-.59-.52 0-1.04.2-1.43.59L10.3 9.45l-7.72 7.72c-.78.78-.78 2.05 0 2.83L4 21.41c.39.39.9.59 1.41.59.51 0 1.02-.2 1.41-.59l7.78-7.78 2.81-2.81c.8-.78.8-2.07 0-2.86zM5.41 20L4 18.59l7.72-7.72 1.47 1.35L5.41 20z\"/>\n",
              "  </svg>\n",
              "      </button>\n",
              "      \n",
              "  <style>\n",
              "    .colab-df-container {\n",
              "      display:flex;\n",
              "      flex-wrap:wrap;\n",
              "      gap: 12px;\n",
              "    }\n",
              "\n",
              "    .colab-df-convert {\n",
              "      background-color: #E8F0FE;\n",
              "      border: none;\n",
              "      border-radius: 50%;\n",
              "      cursor: pointer;\n",
              "      display: none;\n",
              "      fill: #1967D2;\n",
              "      height: 32px;\n",
              "      padding: 0 0 0 0;\n",
              "      width: 32px;\n",
              "    }\n",
              "\n",
              "    .colab-df-convert:hover {\n",
              "      background-color: #E2EBFA;\n",
              "      box-shadow: 0px 1px 2px rgba(60, 64, 67, 0.3), 0px 1px 3px 1px rgba(60, 64, 67, 0.15);\n",
              "      fill: #174EA6;\n",
              "    }\n",
              "\n",
              "    [theme=dark] .colab-df-convert {\n",
              "      background-color: #3B4455;\n",
              "      fill: #D2E3FC;\n",
              "    }\n",
              "\n",
              "    [theme=dark] .colab-df-convert:hover {\n",
              "      background-color: #434B5C;\n",
              "      box-shadow: 0px 1px 3px 1px rgba(0, 0, 0, 0.15);\n",
              "      filter: drop-shadow(0px 1px 2px rgba(0, 0, 0, 0.3));\n",
              "      fill: #FFFFFF;\n",
              "    }\n",
              "  </style>\n",
              "\n",
              "      <script>\n",
              "        const buttonEl =\n",
              "          document.querySelector('#df-14130fdd-ffd7-4a01-bd1b-dc7711ba3ea2 button.colab-df-convert');\n",
              "        buttonEl.style.display =\n",
              "          google.colab.kernel.accessAllowed ? 'block' : 'none';\n",
              "\n",
              "        async function convertToInteractive(key) {\n",
              "          const element = document.querySelector('#df-14130fdd-ffd7-4a01-bd1b-dc7711ba3ea2');\n",
              "          const dataTable =\n",
              "            await google.colab.kernel.invokeFunction('convertToInteractive',\n",
              "                                                     [key], {});\n",
              "          if (!dataTable) return;\n",
              "\n",
              "          const docLinkHtml = 'Like what you see? Visit the ' +\n",
              "            '<a target=\"_blank\" href=https://colab.research.google.com/notebooks/data_table.ipynb>data table notebook</a>'\n",
              "            + ' to learn more about interactive tables.';\n",
              "          element.innerHTML = '';\n",
              "          dataTable['output_type'] = 'display_data';\n",
              "          await google.colab.output.renderOutput(dataTable, element);\n",
              "          const docLink = document.createElement('div');\n",
              "          docLink.innerHTML = docLinkHtml;\n",
              "          element.appendChild(docLink);\n",
              "        }\n",
              "      </script>\n",
              "    </div>\n",
              "  </div>\n",
              "  "
            ]
          },
          "metadata": {},
          "execution_count": 3
        }
      ]
    },
    {
      "cell_type": "code",
      "source": [
        "datos['Title'] = datos['Title'].astype(str)"
      ],
      "metadata": {
        "id": "56KMJFMtOiFj"
      },
      "execution_count": 4,
      "outputs": []
    },
    {
      "cell_type": "code",
      "source": [
        "tokenizer = Tokenizer(oov_token='<oov>') \n",
        "tokenizer.fit_on_texts(datos['Title'])\n",
        "total_words = len(tokenizer.word_index) + 1"
      ],
      "metadata": {
        "id": "0FrMcLLwOif0"
      },
      "execution_count": 5,
      "outputs": []
    },
    {
      "cell_type": "code",
      "source": [
        "input_sequences = []\n",
        "for line in datos['Title']:\n",
        "    token_list = tokenizer.texts_to_sequences([line])[0]\n",
        "    for i in range(1, len(token_list)):\n",
        "        n_gram_sequence = token_list[:i+1]\n",
        "        input_sequences.append(n_gram_sequence)"
      ],
      "metadata": {
        "id": "SkKJRwzdOkYs"
      },
      "execution_count": 6,
      "outputs": []
    },
    {
      "cell_type": "code",
      "source": [
        "max_sequence_len = max([len(x) for x in input_sequences])\n",
        "input_sequences = np.array(pad_sequences(input_sequences, maxlen=max_sequence_len, padding='pre'))"
      ],
      "metadata": {
        "id": "wndLPpvoOpN1"
      },
      "execution_count": 7,
      "outputs": []
    },
    {
      "cell_type": "code",
      "source": [
        "xs, labels = input_sequences[:,:-1],input_sequences[:,-1]\n",
        "ys = tf.keras.utils.to_categorical(labels, num_classes=total_words)"
      ],
      "metadata": {
        "id": "69x6IAUZOqnE"
      },
      "execution_count": 8,
      "outputs": []
    },
    {
      "cell_type": "code",
      "source": [
        "model = Sequential()\n",
        "model.add(Embedding(total_words, 100, input_length=max_sequence_len-1))\n",
        "model.add(Bidirectional(LSTM(150)))\n",
        "model.add(Dense(total_words, activation='softmax'))\n",
        "adam = Adam(learning_rate=0.01)\n",
        "model.compile(loss='categorical_crossentropy', optimizer=adam, metrics=['accuracy'])\n",
        "history = model.fit(xs, ys, epochs=25, verbose=1)\n",
        "print(model)"
      ],
      "metadata": {
        "colab": {
          "base_uri": "https://localhost:8080/"
        },
        "id": "vOu7taDiOttd",
        "outputId": "c5e85bf5-8ca1-4980-d9cd-d91966dbb8c0"
      },
      "execution_count": 9,
      "outputs": [
        {
          "output_type": "stream",
          "name": "stdout",
          "text": [
            "Epoch 1/25\n",
            "202/202 [==============================] - 20s 84ms/step - loss: 5.0059 - accuracy: 0.2572\n",
            "Epoch 2/25\n",
            "202/202 [==============================] - 16s 79ms/step - loss: 3.6447 - accuracy: 0.3893\n",
            "Epoch 3/25\n",
            "202/202 [==============================] - 17s 82ms/step - loss: 2.7906 - accuracy: 0.4463\n",
            "Epoch 4/25\n",
            "202/202 [==============================] - 16s 79ms/step - loss: 2.0115 - accuracy: 0.5366\n",
            "Epoch 5/25\n",
            "202/202 [==============================] - 16s 79ms/step - loss: 1.4284 - accuracy: 0.6488\n",
            "Epoch 6/25\n",
            "202/202 [==============================] - 16s 79ms/step - loss: 1.0450 - accuracy: 0.7349\n",
            "Epoch 7/25\n",
            "202/202 [==============================] - 20s 97ms/step - loss: 0.8186 - accuracy: 0.7874\n",
            "Epoch 8/25\n",
            "202/202 [==============================] - 17s 85ms/step - loss: 0.6765 - accuracy: 0.8225\n",
            "Epoch 9/25\n",
            "202/202 [==============================] - 16s 79ms/step - loss: 0.5981 - accuracy: 0.8367\n",
            "Epoch 10/25\n",
            "202/202 [==============================] - 16s 80ms/step - loss: 0.5620 - accuracy: 0.8488\n",
            "Epoch 11/25\n",
            "202/202 [==============================] - 17s 86ms/step - loss: 0.5299 - accuracy: 0.8556\n",
            "Epoch 12/25\n",
            "202/202 [==============================] - 17s 83ms/step - loss: 0.5284 - accuracy: 0.8559\n",
            "Epoch 13/25\n",
            "202/202 [==============================] - 16s 80ms/step - loss: 0.6038 - accuracy: 0.8301\n",
            "Epoch 14/25\n",
            "202/202 [==============================] - 16s 80ms/step - loss: 0.6726 - accuracy: 0.8103\n",
            "Epoch 15/25\n",
            "202/202 [==============================] - 16s 80ms/step - loss: 0.6768 - accuracy: 0.8110\n",
            "Epoch 16/25\n",
            "202/202 [==============================] - 21s 105ms/step - loss: 0.5872 - accuracy: 0.8333\n",
            "Epoch 17/25\n",
            "202/202 [==============================] - 16s 80ms/step - loss: 0.4794 - accuracy: 0.8615\n",
            "Epoch 18/25\n",
            "202/202 [==============================] - 16s 80ms/step - loss: 0.4292 - accuracy: 0.8730\n",
            "Epoch 19/25\n",
            "202/202 [==============================] - 17s 85ms/step - loss: 0.5372 - accuracy: 0.8503\n",
            "Epoch 20/25\n",
            "202/202 [==============================] - 17s 86ms/step - loss: 0.5402 - accuracy: 0.8462\n",
            "Epoch 21/25\n",
            "202/202 [==============================] - 17s 84ms/step - loss: 0.4848 - accuracy: 0.8612\n",
            "Epoch 22/25\n",
            "202/202 [==============================] - 16s 80ms/step - loss: 0.4265 - accuracy: 0.8766\n",
            "Epoch 23/25\n",
            "202/202 [==============================] - 16s 80ms/step - loss: 0.3896 - accuracy: 0.8845\n",
            "Epoch 24/25\n",
            "202/202 [==============================] - 17s 86ms/step - loss: 0.3661 - accuracy: 0.8920\n",
            "Epoch 25/25\n",
            "202/202 [==============================] - 16s 81ms/step - loss: 0.3390 - accuracy: 0.9015\n",
            "<keras.engine.sequential.Sequential object at 0x7faf5915b610>\n"
          ]
        }
      ]
    },
    {
      "cell_type": "code",
      "source": [
        "import matplotlib.pyplot as plt\n",
        "def plot_graphs(history, string):\n",
        "    plt.plot(history.history[string])\n",
        "    plt.xlabel(\"Epochs\")\n",
        "    plt.ylabel(string)\n",
        "    plt.show()"
      ],
      "metadata": {
        "id": "qvHieGGkOv-t"
      },
      "execution_count": 10,
      "outputs": []
    },
    {
      "cell_type": "code",
      "source": [
        "plot_graphs(history, 'accuracy')"
      ],
      "metadata": {
        "id": "MEb2b1TxOxBO",
        "colab": {
          "base_uri": "https://localhost:8080/",
          "height": 279
        },
        "outputId": "e42241a7-ef0c-4cc1-d3e8-4b5a4351212a"
      },
      "execution_count": 11,
      "outputs": [
        {
          "output_type": "display_data",
          "data": {
            "text/plain": [
              "<Figure size 432x288 with 1 Axes>"
            ],
            "image/png": "[encoded data removed]"
          },
          "metadata": {
            "needs_background": "light"
          }
        }
      ]
    },
    {
      "cell_type": "code",
      "source": [
        "plot_graphs(history, 'loss')"
      ],
      "metadata": {
        "id": "9fbPf26uOySt",
        "colab": {
          "base_uri": "https://localhost:8080/",
          "height": 279
        },
        "outputId": "802b99b3-7a28-4819-823e-217d8db65a49"
      },
      "execution_count": 12,
      "outputs": [
        {
          "output_type": "display_data",
          "data": {
            "text/plain": [
              "<Figure size 432x288 with 1 Axes>"
            ],
            "image/png": "[encoded data removed]"
          },
          "metadata": {
            "needs_background": "light"
          }
        }
      ]
    },
    {
      "cell_type": "code",
      "source": [
        "datos_predecir=pd.read_csv(\"/content/drive/My Drive/DataSet/Palabras_predecir.csv\",sep=',')\n",
        "datos_predecir.head()"
      ],
      "metadata": {
        "colab": {
          "base_uri": "https://localhost:8080/",
          "height": 206
        },
        "id": "ow66R0TuP3w4",
        "outputId": "4ecd6bd0-cddb-44ae-8803-08c1db3d6e8f"
      },
      "execution_count": 13,
      "outputs": [
        {
          "output_type": "execute_result",
          "data": {
            "text/plain": [
              "   id texto_predecir  siguientes_palabras  texto\n",
              "0   1       notebook                    4    NaN\n",
              "1   2     aspiradora                    3    NaN\n",
              "2   3       telefono                    5    NaN\n",
              "3   4           vino                    5    NaN\n",
              "4   5            set                    4    NaN"
            ],
            "text/html": [
              "\n",
              "  <div id=\"df-84ffef54-ca53-4650-a691-eaf0b73ca892\">\n",
              "    <div class=\"colab-df-container\">\n",
              "      <div>\n",
              "<style scoped>\n",
              "    .dataframe tbody tr th:only-of-type {\n",
              "        vertical-align: middle;\n",
              "    }\n",
              "\n",
              "    .dataframe tbody tr th {\n",
              "        vertical-align: top;\n",
              "    }\n",
              "\n",
              "    .dataframe thead th {\n",
              "        text-align: right;\n",
              "    }\n",
              "</style>\n",
              "<table border=\"1\" class=\"dataframe\">\n",
              "  <thead>\n",
              "    <tr style=\"text-align: right;\">\n",
              "      <th></th>\n",
              "      <th>id</th>\n",
              "      <th>texto_predecir</th>\n",
              "      <th>siguientes_palabras</th>\n",
              "      <th>texto</th>\n",
              "    </tr>\n",
              "  </thead>\n",
              "  <tbody>\n",
              "    <tr>\n",
              "      <th>0</th>\n",
              "      <td>1</td>\n",
              "      <td>notebook</td>\n",
              "      <td>4</td>\n",
              "      <td>NaN</td>\n",
              "    </tr>\n",
              "    <tr>\n",
              "      <th>1</th>\n",
              "      <td>2</td>\n",
              "      <td>aspiradora</td>\n",
              "      <td>3</td>\n",
              "      <td>NaN</td>\n",
              "    </tr>\n",
              "    <tr>\n",
              "      <th>2</th>\n",
              "      <td>3</td>\n",
              "      <td>telefono</td>\n",
              "      <td>5</td>\n",
              "      <td>NaN</td>\n",
              "    </tr>\n",
              "    <tr>\n",
              "      <th>3</th>\n",
              "      <td>4</td>\n",
              "      <td>vino</td>\n",
              "      <td>5</td>\n",
              "      <td>NaN</td>\n",
              "    </tr>\n",
              "    <tr>\n",
              "      <th>4</th>\n",
              "      <td>5</td>\n",
              "      <td>set</td>\n",
              "      <td>4</td>\n",
              "      <td>NaN</td>\n",
              "    </tr>\n",
              "  </tbody>\n",
              "</table>\n",
              "</div>\n",
              "      <button class=\"colab-df-convert\" onclick=\"convertToInteractive('df-84ffef54-ca53-4650-a691-eaf0b73ca892')\"\n",
              "              title=\"Convert this dataframe to an interactive table.\"\n",
              "              style=\"display:none;\">\n",
              "        \n",
              "  <svg xmlns=\"http://www.w3.org/2000/svg\" height=\"24px\"viewBox=\"0 0 24 24\"\n",
              "       width=\"24px\">\n",
              "    <path d=\"M0 0h24v24H0V0z\" fill=\"none\"/>\n",
              "    <path d=\"M18.56 5.44l.94 2.06.94-2.06 2.06-.94-2.06-.94-.94-2.06-.94 2.06-2.06.94zm-11 1L8.5 8.5l.94-2.06 2.06-.94-2.06-.94L8.5 2.5l-.94 2.06-2.06.94zm10 10l.94 2.06.94-2.06 2.06-.94-2.06-.94-.94-2.06-.94 2.06-2.06.94z\"/><path d=\"M17.41 7.96l-1.37-1.37c-.4-.4-.92-.59-1.43-.59-.52 0-1.04.2-1.43.59L10.3 9.45l-7.72 7.72c-.78.78-.78 2.05 0 2.83L4 21.41c.39.39.9.59 1.41.59.51 0 1.02-.2 1.41-.59l7.78-7.78 2.81-2.81c.8-.78.8-2.07 0-2.86zM5.41 20L4 18.59l7.72-7.72 1.47 1.35L5.41 20z\"/>\n",
              "  </svg>\n",
              "      </button>\n",
              "      \n",
              "  <style>\n",
              "    .colab-df-container {\n",
              "      display:flex;\n",
              "      flex-wrap:wrap;\n",
              "      gap: 12px;\n",
              "    }\n",
              "\n",
              "    .colab-df-convert {\n",
              "      background-color: #E8F0FE;\n",
              "      border: none;\n",
              "      border-radius: 50%;\n",
              "      cursor: pointer;\n",
              "      display: none;\n",
              "      fill: #1967D2;\n",
              "      height: 32px;\n",
              "      padding: 0 0 0 0;\n",
              "      width: 32px;\n",
              "    }\n",
              "\n",
              "    .colab-df-convert:hover {\n",
              "      background-color: #E2EBFA;\n",
              "      box-shadow: 0px 1px 2px rgba(60, 64, 67, 0.3), 0px 1px 3px 1px rgba(60, 64, 67, 0.15);\n",
              "      fill: #174EA6;\n",
              "    }\n",
              "\n",
              "    [theme=dark] .colab-df-convert {\n",
              "      background-color: #3B4455;\n",
              "      fill: #D2E3FC;\n",
              "    }\n",
              "\n",
              "    [theme=dark] .colab-df-convert:hover {\n",
              "      background-color: #434B5C;\n",
              "      box-shadow: 0px 1px 3px 1px rgba(0, 0, 0, 0.15);\n",
              "      filter: drop-shadow(0px 1px 2px rgba(0, 0, 0, 0.3));\n",
              "      fill: #FFFFFF;\n",
              "    }\n",
              "  </style>\n",
              "\n",
              "      <script>\n",
              "        const buttonEl =\n",
              "          document.querySelector('#df-84ffef54-ca53-4650-a691-eaf0b73ca892 button.colab-df-convert');\n",
              "        buttonEl.style.display =\n",
              "          google.colab.kernel.accessAllowed ? 'block' : 'none';\n",
              "\n",
              "        async function convertToInteractive(key) {\n",
              "          const element = document.querySelector('#df-84ffef54-ca53-4650-a691-eaf0b73ca892');\n",
              "          const dataTable =\n",
              "            await google.colab.kernel.invokeFunction('convertToInteractive',\n",
              "                                                     [key], {});\n",
              "          if (!dataTable) return;\n",
              "\n",
              "          const docLinkHtml = 'Like what you see? Visit the ' +\n",
              "            '<a target=\"_blank\" href=https://colab.research.google.com/notebooks/data_table.ipynb>data table notebook</a>'\n",
              "            + ' to learn more about interactive tables.';\n",
              "          element.innerHTML = '';\n",
              "          dataTable['output_type'] = 'display_data';\n",
              "          await google.colab.output.renderOutput(dataTable, element);\n",
              "          const docLink = document.createElement('div');\n",
              "          docLink.innerHTML = docLinkHtml;\n",
              "          element.appendChild(docLink);\n",
              "        }\n",
              "      </script>\n",
              "    </div>\n",
              "  </div>\n",
              "  "
            ]
          },
          "metadata": {},
          "execution_count": 13
        }
      ]
    },
    {
      "cell_type": "code",
      "source": [
        "def function(texto_predecir,siguientes_palabras):\n",
        "  for _ in range(siguientes_palabras):\n",
        "    token_list = tokenizer.texts_to_sequences([texto_predecir])[0]\n",
        "    token_list = pad_sequences([token_list], maxlen=max_sequence_len-1, padding='pre')\n",
        "    predict_x=model.predict(token_list)\n",
        "    classes_x=np.argmax(predict_x,axis=1)\n",
        "    output_word = ''\n",
        "    for word, index in tokenizer.word_index.items():\n",
        "        if index == classes_x:\n",
        "            output_word = word\n",
        "            break\n",
        "    texto_predecir += \" \" + output_word\n",
        "  print(texto_predecir)\n",
        "\n",
        "for i in range(len(datos_predecir.axes[0])):\n",
        "  texto_predecir = datos_predecir['texto_predecir'].astype(str)\n",
        "  siguientes_palabras = datos_predecir['siguientes_palabras'].astype(int)\n",
        "  function(texto_predecir[i],siguientes_palabras[i])\n",
        "  i=i+1\n",
        "\n"
      ],
      "metadata": {
        "colab": {
          "base_uri": "https://localhost:8080/"
        },
        "id": "E7Hr6uhfQoOv",
        "outputId": "72744f82-3031-492f-be95-95fe52c09d72"
      },
      "execution_count": 14,
      "outputs": [
        {
          "output_type": "stream",
          "name": "stdout",
          "text": [
            "notebook dell inspiron 3501 bajó\n",
            "aspiradora robot osoji dojosan\n",
            "telefono de 2 cargadores usb tipo\n",
            "vino chardonnay castillo de molina gran\n",
            "set de 5 cuchillos master\n",
            "zapatillas puremotion se\n"
          ]
        }
      ]
    },
    {
      "cell_type": "code",
      "source": [
        "function(\"Apple\",2)"
      ],
      "metadata": {
        "id": "2T120dbmWeJY",
        "outputId": "50366eda-00d6-45ba-de7e-2b1af56266c9",
        "colab": {
          "base_uri": "https://localhost:8080/"
        }
      },
      "execution_count": 16,
      "outputs": [
        {
          "output_type": "stream",
          "name": "stdout",
          "text": [
            "Apple watch s7\n"
          ]
        }
      ]
    }
  ]
}